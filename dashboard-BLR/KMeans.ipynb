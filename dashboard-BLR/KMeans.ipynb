{
 "cells": [
  {
   "cell_type": "code",
   "execution_count": null,
   "metadata": {},
   "outputs": [],
   "source": [
    "BASE_PATH = r\"C:\\Users\\sbanerje111521\\OneDrive - GROUP DIGITAL WORKPLACE\\Documents\\Soumya_docs\\python\\poc_final\""
   ]
  },
  {
   "cell_type": "code",
   "execution_count": null,
   "metadata": {},
   "outputs": [],
   "source": [
    "INPUT_FULL_PATH = BASE_PATH + r\"\\inputs\\BusinessDataDictionnary.xlsx\"\n",
    "OUTPUT_PATH = BASE_PATH + r\"\\outputs\"\n",
    "MODEL_PATH = \"C:\\\\Users\\\\sbanerje111521\\\\OneDrive - GROUP DIGITAL WORKPLACE\\\\Documents\\\\Soumya_docs\\\\python\\\\all-MiniLM-L6-v2\""
   ]
  },
  {
   "cell_type": "code",
   "execution_count": null,
   "metadata": {},
   "outputs": [],
   "source": [
    "# read data\n",
    "import pickle\n",
    "with open(BASE_PATH +r\"\\lemmatized_result.pkl\", 'rb') as rfile:\n",
    "    df = pickle.load(rfile)\n",
    "df.shape"
   ]
  },
  {
   "cell_type": "code",
   "execution_count": null,
   "metadata": {},
   "outputs": [],
   "source": [
    "df.columns"
   ]
  },
  {
   "attachments": {},
   "cell_type": "markdown",
   "metadata": {},
   "source": [
    "# KMeans"
   ]
  },
  {
   "cell_type": "code",
   "execution_count": null,
   "metadata": {},
   "outputs": [],
   "source": [
    "from sentence_transformers import SentenceTransformer\n",
    "\n",
    "from sklearn.cluster import KMeans\n",
    "import pandas as pd\n",
    "import numpy as np\n",
    "\n",
    "# model\n",
    "embedder = SentenceTransformer(MODEL_PATH)"
   ]
  },
  {
   "cell_type": "code",
   "execution_count": null,
   "metadata": {},
   "outputs": [],
   "source": [
    "# corpus = df['clean_def'][:50].values\n",
    "# corpus_df = df['clean_def'][:50]\n",
    "corpus_df = df[['clean_def','Term','Definition','Identifiant technique','Global ID (SG)']]\n",
    "corpus_df = pd.DataFrame(corpus_df)\n",
    "corpus_df.reset_index(drop=True, inplace=True)\n",
    "corpus_df.head(2)"
   ]
  },
  {
   "cell_type": "code",
   "execution_count": null,
   "metadata": {},
   "outputs": [],
   "source": [
    "corpus_embeddings = embedder.encode(corpus_df['clean_def'].values)\n",
    "print(\"embedding done\")\n",
    "\n",
    "# normalize\n",
    "corpus_embeddings = corpus_embeddings / np.linalg.norm(corpus_embeddings, axis=1, keepdims=True)\n",
    "print(\"normalize done\")"
   ]
  },
  {
   "cell_type": "code",
   "execution_count": null,
   "metadata": {},
   "outputs": [],
   "source": [
    "# save the embeddings\n",
    "import pickle\n",
    "with open(OUTPUT_PATH + r'\\embeddings_clean_def.pkl', 'wb') as wfile:\n",
    "    pickle.dump(corpus_embeddings, wfile)"
   ]
  },
  {
   "cell_type": "code",
   "execution_count": null,
   "metadata": {},
   "outputs": [],
   "source": [
    "clustering_model = KMeans(n_clusters=5, random_state=0)\n",
    "clustering_model.fit(corpus_embeddings)\n",
    "print(\"fit done\")\n",
    "cluster_assignment = clustering_model.labels_"
   ]
  },
  {
   "cell_type": "code",
   "execution_count": null,
   "metadata": {},
   "outputs": [],
   "source": [
    "# save the embeddings\n",
    "import pickle\n",
    "with open(OUTPUT_PATH + r'\\kmeans_baseline.pkl', 'wb') as wfile:\n",
    "    pickle.dump(clustering_model, wfile)"
   ]
  },
  {
   "cell_type": "code",
   "execution_count": null,
   "metadata": {},
   "outputs": [],
   "source": [
    "import pickle\n",
    "with open(OUTPUT_PATH + r'\\kmeans_baseline.pkl', 'rb') as rfile:\n",
    "    clustering_model = pickle.load(rfile)"
   ]
  },
  {
   "cell_type": "code",
   "execution_count": null,
   "metadata": {},
   "outputs": [],
   "source": [
    "clustering_model.labels_"
   ]
  },
  {
   "cell_type": "code",
   "execution_count": null,
   "metadata": {},
   "outputs": [],
   "source": [
    "corpus_df['label'] = cluster_assignment\n",
    "corpus_df"
   ]
  },
  {
   "cell_type": "code",
   "execution_count": null,
   "metadata": {},
   "outputs": [],
   "source": [
    "# save to excel file\n",
    "from utilities import current_time\n",
    "VERSION = current_time()\n",
    "corpus_df.to_excel(OUTPUT_PATH+'\\\\'+f'kear_kmeans_{VERSION}.xlsx', index=False)"
   ]
  },
  {
   "cell_type": "code",
   "execution_count": null,
   "metadata": {},
   "outputs": [],
   "source": [
    "\n",
    "clustered_sentences = {}\n",
    "for sentence_id, cluster_id in enumerate(cluster_assignment):\n",
    "    if cluster_id not in clustered_sentences:\n",
    "        clustered_sentences[cluster_id] = []\n",
    "\n",
    "    clustered_sentences[cluster_id].append(corpus[sentence_id])\n",
    "\n",
    "#print(clustered_sentences)\n",
    "for k,v in clustered_sentences.items():\n",
    "    print(k)\n",
    "    for val in v:\n",
    "        print(val)\n",
    "    print(\"\\n\\n\")"
   ]
  },
  {
   "attachments": {},
   "cell_type": "markdown",
   "metadata": {},
   "source": [
    "## Wordcloud"
   ]
  },
  {
   "cell_type": "code",
   "execution_count": null,
   "metadata": {},
   "outputs": [],
   "source": [
    "from wordcloud import WordCloud"
   ]
  },
  {
   "cell_type": "code",
   "execution_count": null,
   "metadata": {},
   "outputs": [],
   "source": [
    "corpus_df.head(3)"
   ]
  },
  {
   "cell_type": "code",
   "execution_count": null,
   "metadata": {},
   "outputs": [],
   "source": [
    "# text.to_string()\n",
    "' '.join(text)"
   ]
  },
  {
   "cell_type": "code",
   "execution_count": null,
   "metadata": {},
   "outputs": [],
   "source": [
    "import matplotlib.pyplot as plt"
   ]
  },
  {
   "cell_type": "code",
   "execution_count": null,
   "metadata": {},
   "outputs": [],
   "source": [
    "text = corpus_df[corpus_df['label']==4].iloc[:,0].values\n",
    "wordcloud = WordCloud().generate(' '.join(text))\n",
    "plt.imshow(wordcloud)"
   ]
  }
 ],
 "metadata": {
  "kernelspec": {
   "display_name": "nlp",
   "language": "python",
   "name": "python3"
  },
  "language_info": {
   "codemirror_mode": {
    "name": "ipython",
    "version": 3
   },
   "file_extension": ".py",
   "mimetype": "text/x-python",
   "name": "python",
   "nbconvert_exporter": "python",
   "pygments_lexer": "ipython3",
   "version": "3.10.10"
  },
  "orig_nbformat": 4
 },
 "nbformat": 4,
 "nbformat_minor": 2
}
